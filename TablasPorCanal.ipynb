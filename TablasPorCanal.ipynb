{
 "cells": [
  {
   "attachments": {},
   "cell_type": "markdown",
   "metadata": {},
   "source": [
    "PREPARACION DE DATOS"
   ]
  },
  {
   "cell_type": "code",
   "execution_count": 1,
   "metadata": {},
   "outputs": [],
   "source": [
    "import os\n",
    "import pandas as pd\n",
    "\n",
    "path= \"Feb22 - Feb23 Gral Trade y Reserve\"\n",
    "\n",
    "#carga de todos los archivos\n",
    "Feb22= \"G:/Mi unidad/Proyectos 2022/UN 1061 - Penaflor/Editable Python/Feb22 - Feb23 Gral Trade y Reserve/FEBRERO 22 - FARO - Consolidado.xlsx\"\n",
    "Jun22= \"G:/Mi unidad/Proyectos 2022/UN 1061 - Penaflor/Editable Python/Feb22 - Feb23 Gral Trade y Reserve/JUNIO 22 - Consolidado.xlsx\"\n",
    "Mar22= \"G:/Mi unidad/Proyectos 2022/UN 1061 - Penaflor/Editable Python/Feb22 - Feb23 Gral Trade y Reserve/MARZO 22 - FARO - Consolidado.xlsx\"\n",
    "Abr22= \"G:/Mi unidad/Proyectos 2022/UN 1061 - Penaflor/Editable Python/Feb22 - Feb23 Gral Trade y Reserve/ABRIL 22 - FARO - Consolidado.xlsx\"\n",
    "May22= \"G:/Mi unidad/Proyectos 2022/UN 1061 - Penaflor/Editable Python/Feb22 - Feb23 Gral Trade y Reserve/MAYO 2022 - FARO - Consolidado.xlsx\"\n",
    "Jul22= \"G:/Mi unidad/Proyectos 2022/UN 1061 - Penaflor/Editable Python/Feb22 - Feb23 Gral Trade y Reserve/JULIO 22 - Consolidado.xlsx\"\n",
    "Ago22= \"G:/Mi unidad/Proyectos 2022/UN 1061 - Penaflor/Editable Python/Feb22 - Feb23 Gral Trade y Reserve/AGOSTO 22 - Consolidado.xlsx\"\n",
    "Sep22= \"G:/Mi unidad/Proyectos 2022/UN 1061 - Penaflor/Editable Python/Feb22 - Feb23 Gral Trade y Reserve/SEPT 22 - Consolidado.xlsx\"\n",
    "Oct22= \"G:/Mi unidad/Proyectos 2022/UN 1061 - Penaflor/Editable Python/Feb22 - Feb23 Gral Trade y Reserve/OCT 22 - Consolidado.xlsx\"\n",
    "Nov22= \"G:/Mi unidad/Proyectos 2022/UN 1061 - Penaflor/Editable Python/Feb22 - Feb23 Gral Trade y Reserve/NOV 22 - Consolidado.xlsx\"\n",
    "Dic22= \"G:/Mi unidad/Proyectos 2022/UN 1061 - Penaflor/Editable Python/Feb22 - Feb23 Gral Trade y Reserve/DIC 22 - Consolidado.xlsx\"\n",
    "Ene23= \"G:/Mi unidad/Proyectos 2022/UN 1061 - Penaflor/Editable Python/Feb22 - Feb23 Gral Trade y Reserve/ENERO 23 - Consolidado.xlsx\"\n",
    "Feb23= \"G:/Mi unidad/Proyectos 2022/UN 1061 - Penaflor/Editable Python/Feb22 - Feb23 Gral Trade y Reserve/FEB 23 - Consolidado.xlsx\"\n",
    "\n",
    "dfFeb22= pd.read_excel(Feb22)\n",
    "dfJun22= pd.read_excel(Jun22)\n",
    "dfMar22= pd.read_excel(Mar22)\n",
    "dfAbr22= pd.read_excel(Abr22)\n",
    "dfMay22= pd.read_excel(May22)\n",
    "dfJul22= pd.read_excel(Jul22)\n",
    "dfAgo22= pd.read_excel(Ago22)\n",
    "dfSep22= pd.read_excel(Sep22)\n",
    "dfOct22= pd.read_excel(Oct22)\n",
    "dfNov22= pd.read_excel(Nov22)\n",
    "dfDic22= pd.read_excel(Dic22)\n",
    "dfEne23= pd.read_excel(Ene23)\n",
    "dfFeb23= pd.read_excel(Feb23)\n",
    "\n",
    "values1= dfFeb22[[\"Empresa\",\t\"Cliente\",\t\"Domicilio\",\t\"Canal\",\t\"Cod Supervisor\",\t\"Desc Supervisor\",\t\"Cod Vendedor\",\t\"Desc Vendedor\",\t\"Fuerza De Ventas\",\t\"Agrupacion LC\",\t\"Subcanal\",\t\"Agrupacion Segm\",\n",
    "\"Articulo\",\t\"Provincia\",\t\"Día\",\t\"Cantidad Total UM\",\t\"Cantidad Total Bultos\",\t\"Importe Neto\",\t\"Importe Bruto\"]]\n",
    "values2= dfMar22[[\"Empresa\",\t\"Cliente\",\t\"Domicilio\",\t\"Canal\",\t\"Cod Supervisor\",\t\"Desc Supervisor\",\t\"Cod Vendedor\",\t\"Desc Vendedor\",\t\"Fuerza De Ventas\",\t\"Agrupacion LC\",\t\"Subcanal\",\t\"Agrupacion Segm\",\n",
    "\"Articulo\",\t\"Provincia\",\t\"Día\",\t\"Cantidad Total UM\",\t\"Cantidad Total Bultos\",\t\"Importe Neto\",\t\"Importe Bruto\"]]\n",
    "values3= dfAbr22[[\"Empresa\",\t\"Cliente\",\t\"Domicilio\",\t\"Canal\",\t\"Cod Supervisor\",\t\"Desc Supervisor\",\t\"Cod Vendedor\",\t\"Desc Vendedor\",\t\"Fuerza De Ventas\",\t\"Agrupacion LC\",\t\"Subcanal\",\t\"Agrupacion Segm\",\n",
    "\"Articulo\",\t\"Provincia\",\t\"Día\",\t\"Cantidad Total UM\",\t\"Cantidad Total Bultos\",\t\"Importe Neto\",\t\"Importe Bruto\"]]\n",
    "values4= dfMay22[[\"Empresa\",\t\"Cliente\",\t\"Domicilio\",\t\"Canal\",\t\"Cod Supervisor\",\t\"Desc Supervisor\",\t\"Cod Vendedor\",\t\"Desc Vendedor\",\t\"Fuerza De Ventas\",\t\"Agrupacion LC\",\t\"Subcanal\",\t\"Agrupacion Segm\",\n",
    "\"Articulo\",\t\"Provincia\",\t\"Día\",\t\"Cantidad Total UM\",\t\"Cantidad Total Bultos\",\t\"Importe Neto\",\t\"Importe Bruto\"]]\n",
    "values5= dfJun22[[\"Empresa\",\t\"Cliente\",\t\"Domicilio\",\t\"Canal\",\t\"Cod Supervisor\",\t\"Desc Supervisor\",\t\"Cod Vendedor\",\t\"Desc Vendedor\",\t\"Fuerza De Ventas\",\t\"Agrupacion LC\",\t\"Subcanal\",\t\"Agrupacion Segm\",\n",
    "\"Articulo\",\t\"Provincia\",\t\"Día\",\t\"Cantidad Total UM\",\t\"Cantidad Total Bultos\",\t\"Importe Neto\",\t\"Importe Bruto\"]]\n",
    "values6= dfJul22[[\"Empresa\",\t\"Cliente\",\t\"Domicilio\",\t\"Canal\",\t\"Cod Supervisor\",\t\"Desc Supervisor\",\t\"Cod Vendedor\",\t\"Desc Vendedor\",\t\"Fuerza De Ventas\",\t\"Agrupacion LC\",\t\"Subcanal\",\t\"Agrupacion Segm\",\n",
    "\"Articulo\",\t\"Provincia\",\t\"Día\",\t\"Cantidad Total UM\",\t\"Cantidad Total Bultos\",\t\"Importe Neto\",\t\"Importe Bruto\"]]\n",
    "values7= dfAgo22[[\"Empresa\",\t\"Cliente\",\t\"Domicilio\",\t\"Canal\",\t\"Cod Supervisor\",\t\"Desc Supervisor\",\t\"Cod Vendedor\",\t\"Desc Vendedor\",\t\"Fuerza De Ventas\",\t\"Agrupacion LC\",\t\"Subcanal\",\t\"Agrupacion Segm\",\n",
    "\"Articulo\",\t\"Provincia\",\t\"Día\",\t\"Cantidad Total UM\",\t\"Cantidad Total Bultos\",\t\"Importe Neto\",\t\"Importe Bruto\"]]\n",
    "values8= dfSep22[[\"Empresa\",\t\"Cliente\",\t\"Domicilio\",\t\"Canal\",\t\"Cod Supervisor\",\t\"Desc Supervisor\",\t\"Cod Vendedor\",\t\"Desc Vendedor\",\t\"Fuerza De Ventas\",\t\"Agrupacion LC\",\t\"Subcanal\",\t\"Agrupacion Segm\",\n",
    "\"Articulo\",\t\"Provincia\",\t\"Día\",\t\"Cantidad Total UM\",\t\"Cantidad Total Bultos\",\t\"Importe Neto\",\t\"Importe Bruto\"]]\n",
    "values9= dfOct22[[\"Empresa\",\t\"Cliente\",\t\"Domicilio\",\t\"Canal\",\t\"Cod Supervisor\",\t\"Desc Supervisor\",\t\"Cod Vendedor\",\t\"Desc Vendedor\",\t\"Fuerza De Ventas\",\t\"Agrupacion LC\",\t\"Subcanal\",\t\"Agrupacion Segm\",\n",
    "\"Articulo\",\t\"Provincia\",\t\"Día\",\t\"Cantidad Total UM\",\t\"Cantidad Total Bultos\",\t\"Importe Neto\",\t\"Importe Bruto\"]]\n",
    "values10= dfNov22[[\"Empresa\",\t\"Cliente\",\t\"Domicilio\",\t\"Canal\",\t\"Cod Supervisor\",\t\"Desc Supervisor\",\t\"Cod Vendedor\",\t\"Desc Vendedor\",\t\"Fuerza De Ventas\",\t\"Agrupacion LC\",\t\"Subcanal\",\t\"Agrupacion Segm\",\n",
    "\"Articulo\",\t\"Provincia\",\t\"Día\",\t\"Cantidad Total UM\",\t\"Cantidad Total Bultos\",\t\"Importe Neto\",\t\"Importe Bruto\"]]\n",
    "values11= dfDic22[[\"Empresa\",\t\"Cliente\",\t\"Domicilio\",\t\"Canal\",\t\"Cod Supervisor\",\t\"Desc Supervisor\",\t\"Cod Vendedor\",\t\"Desc Vendedor\",\t\"Fuerza De Ventas\",\t\"Agrupacion LC\",\t\"Subcanal\",\t\"Agrupacion Segm\",\n",
    "\"Articulo\",\t\"Provincia\",\t\"Día\",\t\"Cantidad Total UM\",\t\"Cantidad Total Bultos\",\t\"Importe Neto\",\t\"Importe Bruto\"]]\n",
    "values12= dfEne23[[\"Empresa\",\t\"Cliente\",\t\"Domicilio\",\t\"Canal\",\t\"Cod Supervisor\",\t\"Desc Supervisor\",\t\"Cod Vendedor\",\t\"Desc Vendedor\",\t\"Fuerza De Ventas\",\t\"Agrupacion LC\",\t\"Subcanal\",\t\"Agrupacion Segm\",\n",
    "\"Articulo\",\t\"Provincia\",\t\"Día\",\t\"Cantidad Total UM\",\t\"Cantidad Total Bultos\",\t\"Importe Neto\",\t\"Importe Bruto\"]]\n",
    "values13= dfFeb23[[\"Empresa\",\t\"Cliente\",\t\"Domicilio\",\t\"Canal\",\t\"Cod Supervisor\",\t\"Desc Supervisor\",\t\"Cod Vendedor\",\t\"Desc Vendedor\",\t\"Fuerza De Ventas\",\t\"Agrupacion LC\",\t\"Subcanal\",\t\"Agrupacion Segm\",\n",
    "\"Articulo\",\t\"Provincia\",\t\"Día\",\t\"Cantidad Total UM\",\t\"Cantidad Total Bultos\",\t\"Importe Neto\",\t\"Importe Bruto\"]]\n",
    "\n",
    "dataframes= [values1, values2, values3, values4, values5, values6, values7, values8, values9, values10, values11, values12, values13]\n",
    "\n",
    "#Append de  los 13 archivos - todas las columnas\n",
    "UnionConcat= pd.concat(dataframes)\n",
    "\n",
    "#Reemplazar typo \"0000  - sin canal\" por un solo espacio despues del cero - sin canal esta duplicado con y sin espacio extra\n"
   ]
  }
 ],
 "metadata": {
  "kernelspec": {
   "display_name": "Python 3",
   "language": "python",
   "name": "python3"
  },
  "language_info": {
   "codemirror_mode": {
    "name": "ipython",
    "version": 3
   },
   "file_extension": ".py",
   "mimetype": "text/x-python",
   "name": "python",
   "nbconvert_exporter": "python",
   "pygments_lexer": "ipython3",
   "version": "3.11.1"
  },
  "orig_nbformat": 4
 },
 "nbformat": 4,
 "nbformat_minor": 2
}
